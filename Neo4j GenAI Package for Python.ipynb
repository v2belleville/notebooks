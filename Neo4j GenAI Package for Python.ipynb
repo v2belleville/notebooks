{
 "cells": [
  {
   "cell_type": "markdown",
   "id": "dc56a442-63d8-432c-ace5-f3ccb523d985",
   "metadata": {},
   "source": [
    "from \"The Neo4j GenAI Package for Python - Getting started with retrieval and GraphRAG\" by Will Tai\n",
    "\n",
    "https://medium.com/neo4j/the-neo4j-genai-package-for-python-bbb2bd2ad3b3"
   ]
  },
  {
   "cell_type": "markdown",
   "id": "50f689de-0bfb-448b-a62f-ad4a19c47cf5",
   "metadata": {},
   "source": [
    "<a target=\"_blank\" href=\"https://colab.research.google.com/github/v2belleville/notebooks/blob/main/Neo4j%20GenAI%20Package%20for%20Python.ipynb\">\n",
    "  <img src=\"https://colab.research.google.com/assets/colab-badge.svg\" alt=\"Open In Colab\"/>"
   ]
  },
  {
   "cell_type": "code",
   "execution_count": null,
   "id": "1aab72a8-eb7a-4de1-bde5-4a46810716e2",
   "metadata": {},
   "outputs": [],
   "source": [
    "from neo4j import GraphDatabase"
   ]
  },
  {
   "cell_type": "code",
   "execution_count": null,
   "id": "b5d7e45d-5a69-43a9-9f91-26c68c86b101",
   "metadata": {},
   "outputs": [],
   "source": [
    "# Demo database credentials\n",
    "URI = \"neo4j+s://demo.neo4jlabs.com\"\n",
    "AUTH = (\"recommendations\", \"recommendations\")"
   ]
  },
  {
   "cell_type": "code",
   "execution_count": 2,
   "id": "85ff5b71-a16a-46ae-a2a1-31b3efcfa961",
   "metadata": {},
   "outputs": [],
   "source": [
    "# Connect to Neo4j database\n",
    "driver = GraphDatabase.driver(URI, auth=AUTH)\n",
    "session = driver.session()"
   ]
  },
  {
   "cell_type": "code",
   "execution_count": 3,
   "id": "807e3b64-12bc-4b8c-acb6-17255d2b1efa",
   "metadata": {},
   "outputs": [],
   "source": [
    "import os\n",
    "os.environ[\"OPENAI_API_KEY\"]=\"sk-...\""
   ]
  },
  {
   "cell_type": "code",
   "execution_count": 5,
   "id": "cf95a107-8198-4eae-9649-08382cb18e23",
   "metadata": {},
   "outputs": [
    {
     "data": {
      "text/plain": [
       "[[11,\n",
       "  'moviePlotsEmbedding',\n",
       "  'ONLINE',\n",
       "  100.0,\n",
       "  'VECTOR',\n",
       "  'NODE',\n",
       "  ['Movie'],\n",
       "  ['plotEmbedding'],\n",
       "  'vector-1.0',\n",
       "  None,\n",
       "  neo4j.time.DateTime(2024, 7, 30, 16, 5, 12, 677000000, tzinfo=<UTC>),\n",
       "  73,\n",
       "  neo4j.time.DateTime(2024, 1, 9, 14, 16, 32, 599000000, tzinfo=<UTC>),\n",
       "  {'indexProvider': 'vector-1.0',\n",
       "   'indexConfig': {'vector.dimensions': 1536,\n",
       "    'vector.similarity_function': 'cosine'}},\n",
       "  '',\n",
       "  \"CREATE VECTOR INDEX `moviePlotsEmbedding` FOR (n:`Movie`) ON (n.`plotEmbedding`) OPTIONS {indexConfig: {`vector.dimensions`: 1536,`vector.similarity_function`: 'cosine'}, indexProvider: 'vector-1.0'}\"],\n",
       " [13,\n",
       "  'moviePostersEmbedding',\n",
       "  'ONLINE',\n",
       "  100.0,\n",
       "  'VECTOR',\n",
       "  'NODE',\n",
       "  ['Movie'],\n",
       "  ['posterEmbedding'],\n",
       "  'vector-1.0',\n",
       "  None,\n",
       "  None,\n",
       "  0,\n",
       "  neo4j.time.DateTime(2024, 1, 9, 14, 16, 51, 774000000, tzinfo=<UTC>),\n",
       "  {'indexProvider': 'vector-1.0',\n",
       "   'indexConfig': {'vector.dimensions': 512,\n",
       "    'vector.similarity_function': 'cosine'}},\n",
       "  '',\n",
       "  \"CREATE VECTOR INDEX `moviePostersEmbedding` FOR (n:`Movie`) ON (n.`posterEmbedding`) OPTIONS {indexConfig: {`vector.dimensions`: 512,`vector.similarity_function`: 'cosine'}, indexProvider: 'vector-1.0'}\"]]"
      ]
     },
     "execution_count": 5,
     "metadata": {},
     "output_type": "execute_result"
    }
   ],
   "source": [
    "session.run(\"show indexes YIELD * WHERE type='VECTOR' \").values()"
   ]
  },
  {
   "cell_type": "code",
   "execution_count": null,
   "id": "4a54f72f-9cb5-487f-ab97-7b8a88cc757b",
   "metadata": {},
   "outputs": [],
   "source": [
    "from neo4j_genai.retrievers import VectorRetriever\n",
    "from neo4j_genai.embeddings.openai import OpenAIEmbeddings"
   ]
  },
  {
   "cell_type": "code",
   "execution_count": null,
   "id": "1fe7d54c-969f-49e0-83d2-dae6ee11a4f0",
   "metadata": {},
   "outputs": [],
   "source": [
    "embedder = OpenAIEmbeddings(model=\"text-embedding-ada-002\")\n",
    "retriever = VectorRetriever(\n",
    "    driver,\n",
    "    index_name=\"moviePlotsEmbedding\",\n",
    "    embedder=embedder,\n",
    "    return_properties=[\"title\", \"plot\"],\n",
    ")"
   ]
  },
  {
   "cell_type": "code",
   "execution_count": 7,
   "id": "36546e72-b283-44ce-b5e2-70c880b480bd",
   "metadata": {},
   "outputs": [
    {
     "name": "stdout",
     "output_type": "stream",
     "text": [
      "items=[RetrieverResultItem(content=\"{'title': 'Titanic', 'plot': 'An unhappy married couple deal with their problems on board the ill-fated ship.'}\", metadata={'score': 0.9450652599334717, 'nodeLabels': None, 'id': None}), RetrieverResultItem(content=\"{'title': 'Night to Remember, A', 'plot': 'An account of the ill-fated maiden voyage of RMS Titanic in 1912.'}\", metadata={'score': 0.9428615570068359, 'nodeLabels': None, 'id': None}), RetrieverResultItem(content=\"{'title': 'Titanic', 'plot': 'A seventeen-year-old aristocrat falls in love with a kind, but poor artist aboard the luxurious, ill-fated R.M.S. Titanic.'}\", metadata={'score': 0.9422949552536011, 'nodeLabels': None, 'id': None})] metadata={'__retriever': 'VectorRetriever'}\n"
     ]
    }
   ],
   "source": [
    "query_text = \"A movie about the famous sinking of the Titanic\"\n",
    "retriever_result = retriever.search(query_text=query_text, top_k=3)\n",
    "print(retriever_result)"
   ]
  },
  {
   "cell_type": "markdown",
   "id": "6436e094-f2aa-4e35-a963-2fed38689f4f",
   "metadata": {},
   "source": [
    "## simple GraphRAG pipeline"
   ]
  },
  {
   "cell_type": "raw",
   "id": "73e81679-51ae-4640-9844-a539ca0207aa",
   "metadata": {},
   "source": [
    "- Neo4j driver — Used to query your Neo4j database.\n",
    "- retriever — The neo4j-genai package provides some implementations and lets you write your own if none of the provided implementations matches your needs.\n",
    "- LLM — We need to call an LLM to generate the answer. The neo4j-genai package currently only provides an implementation for the OpenAI LLMs, but its interface is compatible with LangChain chat models and lets you write your own interface if needed."
   ]
  },
  {
   "cell_type": "code",
   "execution_count": null,
   "id": "d285961b-2a68-4d44-b7ac-1534ce269465",
   "metadata": {},
   "outputs": [],
   "source": [
    "from neo4j_genai.llm import OpenAILLM\n",
    "from neo4j_genai.generation import GraphRAG\n",
    "\n",
    "# LLM\n",
    "# Note: the OPENAI_API_KEY must be in the env vars\n",
    "genLLM = OpenAILLM(model_name=\"gpt-4o\", model_params={\"temperature\": 0})\n",
    "\n",
    "# Initialize the RAG pipeline\n",
    "rag = GraphRAG(retriever=retriever, llm=genLLM)"
   ]
  },
  {
   "cell_type": "code",
   "execution_count": 19,
   "id": "db25fea5-239c-4ae9-a0ea-306d11c4f1d2",
   "metadata": {},
   "outputs": [
    {
     "data": {
      "text/plain": [
       "RagResultModel(answer='\"Autumn in New York\" and \"Bed of Roses\" are sad romances. \"Autumn in New York\" is about an aging playboy who falls for a sweet, but terminally ill, young woman, while \"Bed of Roses\" involves a young career girl who is swept off her feet by a shy florist.', retriever_result=None)"
      ]
     },
     "execution_count": 19,
     "metadata": {},
     "output_type": "execute_result"
    }
   ],
   "source": [
    "# Query the graph\n",
    "query_text = \"What movies are sad romances?\"\n",
    "response = rag.search(query=query_text, retriever_config={\"top_k\": 5})\n",
    "\n",
    "response"
   ]
  },
  {
   "cell_type": "code",
   "execution_count": 18,
   "id": "0d696e00-a0c4-47bd-b5f0-7137dc5636be",
   "metadata": {},
   "outputs": [
    {
     "data": {
      "text/plain": [
       "RagResultModel(answer=\"The movies about politics are:\\n\\n1. **Mr. Smith Goes to Washington** - A naive man is appointed to fill a vacancy in the US Senate and faces political corruption.\\n2. **American President, The** - A comedy-drama about a widowed U.S. president and a lobbyist who fall in love amidst political challenges.\\n3. **All the King's Men** - The rise and fall of a corrupt politician who uses populist appeal to retain power.\\n4. **Perfect Candidate, A** - A documentary following Oliver North's unsuccessful 1994 bid for a Virginia Senate seat, highlighting the campaign's inner workings.\\n5. **Wag the Dog** - A spin-doctor and a Hollywood producer fabricate a war to cover up a presidential sex scandal shortly before an election.\", retriever_result=None)"
      ]
     },
     "execution_count": 18,
     "metadata": {},
     "output_type": "execute_result"
    }
   ],
   "source": [
    "# Query the graph\n",
    "query_text = \"What movies are about politics?\"\n",
    "response = rag.search(query=query_text, retriever_config={\"top_k\": 5})\n",
    "\n",
    "response"
   ]
  },
  {
   "cell_type": "code",
   "execution_count": 17,
   "id": "abffc033-ca9c-447a-bc29-f494df1d0bfb",
   "metadata": {},
   "outputs": [
    {
     "data": {
      "text/plain": [
       "RagResultModel(answer='\"American President, The\" is a movie about politics but not corruption. It is a comedy-drama about a widowed U.S. president and a lobbyist who fall in love, dealing with the perception of their relationship in the political arena.', retriever_result=None)"
      ]
     },
     "execution_count": 17,
     "metadata": {},
     "output_type": "execute_result"
    }
   ],
   "source": [
    "# Query the graph\n",
    "query_text = \"What movies are about politics but not corruption ?\"\n",
    "response = rag.search(query=query_text, retriever_config={\"top_k\": 5})\n",
    "response"
   ]
  }
 ],
 "metadata": {
  "kernelspec": {
   "display_name": "Python 3 (ipykernel)",
   "language": "python",
   "name": "python3"
  },
  "language_info": {
   "codemirror_mode": {
    "name": "ipython",
    "version": 3
   },
   "file_extension": ".py",
   "mimetype": "text/x-python",
   "name": "python",
   "nbconvert_exporter": "python",
   "pygments_lexer": "ipython3",
   "version": "3.11.4"
  }
 },
 "nbformat": 4,
 "nbformat_minor": 5
}
